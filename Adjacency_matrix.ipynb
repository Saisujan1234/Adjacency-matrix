{
  "nbformat": 4,
  "nbformat_minor": 0,
  "metadata": {
    "colab": {
      "name": "Adjacency matrix.ipynb",
      "provenance": []
    },
    "kernelspec": {
      "name": "python3",
      "display_name": "Python 3"
    },
    "language_info": {
      "name": "python"
    }
  },
  "cells": [
    {
      "cell_type": "code",
      "execution_count": 1,
      "metadata": {
        "colab": {
          "base_uri": "https://localhost:8080/"
        },
        "id": "TVm3Ou_zX1Xi",
        "outputId": "d26e0deb-511e-47c3-daf7-f1914f0e8031"
      },
      "outputs": [
        {
          "output_type": "stream",
          "name": "stdout",
          "text": [
            "Vertices of Graph\n",
            "['a', 'b', 'c', 'd', 'e', 'f']\n",
            "Edges of Graph\n",
            "[('a', 'c', 20), ('a', 'e', 10), ('b', 'c', 30), ('b', 'e', 40), ('c', 'a', 20), ('c', 'b', 30), ('d', 'e', 50), ('e', 'a', 10), ('e', 'b', 40), ('e', 'd', 50), ('e', 'f', 60), ('f', 'e', 60)]\n",
            "Adjacency Matrix of Graph\n",
            "[[-1, -1, 20, -1, 10, -1], [-1, -1, 30, -1, 40, -1], [20, 30, -1, -1, -1, -1], [-1, -1, -1, -1, 50, -1], [10, 40, -1, 50, -1, 60], [-1, -1, -1, -1, 60, -1]]\n"
          ]
        }
      ],
      "source": [
        "# A simple representation of graph using Adjacency Matrix\n",
        "class Graph:\n",
        "\tdef __init__(self,numvertex):\n",
        "\t\tself.adjMatrix = [[-1]*numvertex for x in range(numvertex)]\n",
        "\t\tself.numvertex = numvertex\n",
        "\t\tself.vertices = {}\n",
        "\t\tself.verticeslist =[0]*numvertex\n",
        "\n",
        "\tdef set_vertex(self,vtx,id):\n",
        "\t\tif 0<=vtx<=self.numvertex:\n",
        "\t\t\tself.vertices[id] = vtx\n",
        "\t\t\tself.verticeslist[vtx] = id\n",
        "\n",
        "\tdef set_edge(self,frm,to,cost=0):\n",
        "\t\tfrm = self.vertices[frm]\n",
        "\t\tto = self.vertices[to]\n",
        "\t\tself.adjMatrix[frm][to] = cost\n",
        "\t\t\n",
        "\t\t# for directed graph do not add this\n",
        "\t\tself.adjMatrix[to][frm] = cost\n",
        "\n",
        "\tdef get_vertex(self):\n",
        "\t\treturn self.verticeslist\n",
        "\n",
        "\tdef get_edges(self):\n",
        "\t\tedges=[]\n",
        "\t\tfor i in range (self.numvertex):\n",
        "\t\t\tfor j in range (self.numvertex):\n",
        "\t\t\t\tif (self.adjMatrix[i][j]!=-1):\n",
        "\t\t\t\t\tedges.append((self.verticeslist[i],self.verticeslist[j],self.adjMatrix[i][j]))\n",
        "\t\treturn edges\n",
        "\t\t\n",
        "\tdef get_matrix(self):\n",
        "\t\treturn self.adjMatrix\n",
        "\n",
        "G =Graph(6)\n",
        "G.set_vertex(0,'a')\n",
        "G.set_vertex(1,'b')\n",
        "G.set_vertex(2,'c')\n",
        "G.set_vertex(3,'d')\n",
        "G.set_vertex(4,'e')\n",
        "G.set_vertex(5,'f')\n",
        "G.set_edge('a','e',10)\n",
        "G.set_edge('a','c',20)\n",
        "G.set_edge('c','b',30)\n",
        "G.set_edge('b','e',40)\n",
        "G.set_edge('e','d',50)\n",
        "G.set_edge('f','e',60)\n",
        "\n",
        "print(\"Vertices of Graph\")\n",
        "print(G.get_vertex())\n",
        "\n",
        "print(\"Edges of Graph\")\n",
        "print(G.get_edges())\n",
        "\n",
        "print(\"Adjacency Matrix of Graph\")\n",
        "print(G.get_matrix())\n"
      ]
    }
  ]
}